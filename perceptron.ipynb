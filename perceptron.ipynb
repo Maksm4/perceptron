{
 "cells": [
  {
   "cell_type": "code",
   "execution_count": 1,
   "id": "a81ad922-3a1b-4f24-b3fa-111f7497d09a",
   "metadata": {},
   "outputs": [],
   "source": [
    "import matplotlib.pyplot as plt\n",
    "import pandas as pd\n",
    "import numpy as np\n",
    "import random"
   ]
  },
  {
   "cell_type": "code",
   "execution_count": 2,
   "id": "830993cb-74f0-4bb9-8bba-8e0ed36ae696",
   "metadata": {},
   "outputs": [],
   "source": [
    "#load the training dataset\n",
    "df = pd.read_csv(\"perceptron.data\", header=None)"
   ]
  },
  {
   "cell_type": "code",
   "execution_count": 3,
   "id": "0aa9d1f1-0d6f-411c-8761-dab114f04820",
   "metadata": {},
   "outputs": [],
   "source": [
    "colum_names = ['input ' + str(i) for i in range(0,len(df.columns) -1)]\n",
    "df.columns = colum_names + ['output']"
   ]
  },
  {
   "cell_type": "code",
   "execution_count": 4,
   "id": "7f10e752-9a1a-411d-b549-469ff65b41be",
   "metadata": {},
   "outputs": [
    {
     "data": {
      "text/html": [
       "<div>\n",
       "<style scoped>\n",
       "    .dataframe tbody tr th:only-of-type {\n",
       "        vertical-align: middle;\n",
       "    }\n",
       "\n",
       "    .dataframe tbody tr th {\n",
       "        vertical-align: top;\n",
       "    }\n",
       "\n",
       "    .dataframe thead th {\n",
       "        text-align: right;\n",
       "    }\n",
       "</style>\n",
       "<table border=\"1\" class=\"dataframe\">\n",
       "  <thead>\n",
       "    <tr style=\"text-align: right;\">\n",
       "      <th></th>\n",
       "      <th>input 0</th>\n",
       "      <th>input 1</th>\n",
       "      <th>input 2</th>\n",
       "      <th>input 3</th>\n",
       "      <th>output</th>\n",
       "    </tr>\n",
       "  </thead>\n",
       "  <tbody>\n",
       "    <tr>\n",
       "      <th>0</th>\n",
       "      <td>7.0</td>\n",
       "      <td>3.2</td>\n",
       "      <td>4.7</td>\n",
       "      <td>1.4</td>\n",
       "      <td>Iris-versicolor</td>\n",
       "    </tr>\n",
       "    <tr>\n",
       "      <th>1</th>\n",
       "      <td>6.4</td>\n",
       "      <td>3.2</td>\n",
       "      <td>4.5</td>\n",
       "      <td>1.5</td>\n",
       "      <td>Iris-versicolor</td>\n",
       "    </tr>\n",
       "    <tr>\n",
       "      <th>2</th>\n",
       "      <td>6.9</td>\n",
       "      <td>3.1</td>\n",
       "      <td>4.9</td>\n",
       "      <td>1.5</td>\n",
       "      <td>Iris-versicolor</td>\n",
       "    </tr>\n",
       "    <tr>\n",
       "      <th>3</th>\n",
       "      <td>5.5</td>\n",
       "      <td>2.3</td>\n",
       "      <td>4.0</td>\n",
       "      <td>1.3</td>\n",
       "      <td>Iris-versicolor</td>\n",
       "    </tr>\n",
       "    <tr>\n",
       "      <th>4</th>\n",
       "      <td>6.5</td>\n",
       "      <td>2.8</td>\n",
       "      <td>4.6</td>\n",
       "      <td>1.5</td>\n",
       "      <td>Iris-versicolor</td>\n",
       "    </tr>\n",
       "    <tr>\n",
       "      <th>...</th>\n",
       "      <td>...</td>\n",
       "      <td>...</td>\n",
       "      <td>...</td>\n",
       "      <td>...</td>\n",
       "      <td>...</td>\n",
       "    </tr>\n",
       "    <tr>\n",
       "      <th>65</th>\n",
       "      <td>7.4</td>\n",
       "      <td>2.8</td>\n",
       "      <td>6.1</td>\n",
       "      <td>1.9</td>\n",
       "      <td>Iris-virginica</td>\n",
       "    </tr>\n",
       "    <tr>\n",
       "      <th>66</th>\n",
       "      <td>7.9</td>\n",
       "      <td>3.8</td>\n",
       "      <td>6.4</td>\n",
       "      <td>2.0</td>\n",
       "      <td>Iris-virginica</td>\n",
       "    </tr>\n",
       "    <tr>\n",
       "      <th>67</th>\n",
       "      <td>6.4</td>\n",
       "      <td>2.8</td>\n",
       "      <td>5.6</td>\n",
       "      <td>2.2</td>\n",
       "      <td>Iris-virginica</td>\n",
       "    </tr>\n",
       "    <tr>\n",
       "      <th>68</th>\n",
       "      <td>6.3</td>\n",
       "      <td>2.8</td>\n",
       "      <td>5.1</td>\n",
       "      <td>1.5</td>\n",
       "      <td>Iris-virginica</td>\n",
       "    </tr>\n",
       "    <tr>\n",
       "      <th>69</th>\n",
       "      <td>6.1</td>\n",
       "      <td>2.6</td>\n",
       "      <td>5.6</td>\n",
       "      <td>1.4</td>\n",
       "      <td>Iris-virginica</td>\n",
       "    </tr>\n",
       "  </tbody>\n",
       "</table>\n",
       "<p>70 rows × 5 columns</p>\n",
       "</div>"
      ],
      "text/plain": [
       "    input 0  input 1  input 2  input 3           output\n",
       "0       7.0      3.2      4.7      1.4  Iris-versicolor\n",
       "1       6.4      3.2      4.5      1.5  Iris-versicolor\n",
       "2       6.9      3.1      4.9      1.5  Iris-versicolor\n",
       "3       5.5      2.3      4.0      1.3  Iris-versicolor\n",
       "4       6.5      2.8      4.6      1.5  Iris-versicolor\n",
       "..      ...      ...      ...      ...              ...\n",
       "65      7.4      2.8      6.1      1.9   Iris-virginica\n",
       "66      7.9      3.8      6.4      2.0   Iris-virginica\n",
       "67      6.4      2.8      5.6      2.2   Iris-virginica\n",
       "68      6.3      2.8      5.1      1.5   Iris-virginica\n",
       "69      6.1      2.6      5.6      1.4   Iris-virginica\n",
       "\n",
       "[70 rows x 5 columns]"
      ]
     },
     "execution_count": 4,
     "metadata": {},
     "output_type": "execute_result"
    }
   ],
   "source": [
    "df"
   ]
  },
  {
   "cell_type": "code",
   "execution_count": 5,
   "id": "d029a4ae-3d15-4a1f-b48e-a5fe0dfc0068",
   "metadata": {},
   "outputs": [],
   "source": [
    "#split the dataset to X - input, and Y - output\n",
    "X = df.iloc[:,:-1]\n",
    "Y = df.iloc[:,-1]"
   ]
  },
  {
   "cell_type": "code",
   "execution_count": 6,
   "id": "f3e209b1-990e-4a0c-a597-34aeef958982",
   "metadata": {
    "scrolled": true
   },
   "outputs": [
    {
     "data": {
      "text/plain": [
       "(    input 0  input 1  input 2  input 3\n",
       " 0       7.0      3.2      4.7      1.4\n",
       " 1       6.4      3.2      4.5      1.5\n",
       " 2       6.9      3.1      4.9      1.5\n",
       " 3       5.5      2.3      4.0      1.3\n",
       " 4       6.5      2.8      4.6      1.5\n",
       " ..      ...      ...      ...      ...\n",
       " 65      7.4      2.8      6.1      1.9\n",
       " 66      7.9      3.8      6.4      2.0\n",
       " 67      6.4      2.8      5.6      2.2\n",
       " 68      6.3      2.8      5.1      1.5\n",
       " 69      6.1      2.6      5.6      1.4\n",
       " \n",
       " [70 rows x 4 columns],\n",
       " 0     Iris-versicolor\n",
       " 1     Iris-versicolor\n",
       " 2     Iris-versicolor\n",
       " 3     Iris-versicolor\n",
       " 4     Iris-versicolor\n",
       "            ...       \n",
       " 65     Iris-virginica\n",
       " 66     Iris-virginica\n",
       " 67     Iris-virginica\n",
       " 68     Iris-virginica\n",
       " 69     Iris-virginica\n",
       " Name: output, Length: 70, dtype: object)"
      ]
     },
     "execution_count": 6,
     "metadata": {},
     "output_type": "execute_result"
    }
   ],
   "source": [
    "X, Y"
   ]
  },
  {
   "cell_type": "code",
   "execution_count": null,
   "id": "54992fa7-736b-456f-b9d5-2d2422589144",
   "metadata": {},
   "outputs": [],
   "source": []
  },
  {
   "cell_type": "code",
   "execution_count": 7,
   "id": "0432bb6d-4b95-4c04-bff8-7eab00a5c401",
   "metadata": {},
   "outputs": [
    {
     "data": {
      "text/plain": [
       "0     0\n",
       "1     0\n",
       "2     0\n",
       "3     0\n",
       "4     0\n",
       "     ..\n",
       "65    1\n",
       "66    1\n",
       "67    1\n",
       "68    1\n",
       "69    1\n",
       "Name: output, Length: 70, dtype: int64"
      ]
     },
     "execution_count": 7,
     "metadata": {},
     "output_type": "execute_result"
    }
   ],
   "source": [
    "unique_outputs = Y.unique()\n",
    "Y_numeric = Y.map({unique_outputs[0] : 0, unique_outputs[1] : 1})\n",
    "Y_numeric"
   ]
  },
  {
   "cell_type": "code",
   "execution_count": null,
   "id": "d99106d8-d522-4ba9-b301-3b6cf18b1aa6",
   "metadata": {},
   "outputs": [],
   "source": []
  },
  {
   "cell_type": "code",
   "execution_count": 8,
   "id": "44ca696b-7eaf-4e40-a281-df81fcd8fe32",
   "metadata": {},
   "outputs": [],
   "source": [
    "#activation function(step function)\n",
    "def activation_fuction(net):\n",
    "    if net >= 0:\n",
    "        return 1\n",
    "    else:\n",
    "        return 0\n",
    "\n"
   ]
  },
  {
   "cell_type": "code",
   "execution_count": 9,
   "id": "03359761-0cde-4192-90f3-e943cfe1aa9e",
   "metadata": {},
   "outputs": [],
   "source": [
    "def train_perceptron(training_set_inputs, training_set_outputs, learning_rate, epochs, error):\n",
    "    #assign initial random weights from range [0,1)\n",
    "    weights = np.random.rand(len(training_set_inputs.columns))\n",
    "    bias = 0\n",
    "    for epoch in range(epochs):\n",
    "        iteration_error = 0\n",
    "        for i in range(len(training_set_inputs)):\n",
    "            net = np.dot(weights, training_set_inputs.iloc[i]) - bias\n",
    "            output = activation_fuction(net)\n",
    "            weights = weights + learning_rate * training_set_inputs.iloc[i] * (training_set_outputs.iloc[i] - output) \n",
    "            bias = bias - learning_rate * (training_set_outputs.iloc[i] - output)\n",
    "            iteration_error += (training_set_outputs.iloc[i] - output) ** 2\n",
    "        iteration_error /= len(training_set_inputs)\n",
    "        if iteration_error < error:\n",
    "            return weights, bias\n",
    "    return weights, bias\n",
    "\n",
    "    "
   ]
  },
  {
   "cell_type": "code",
   "execution_count": 10,
   "id": "49fcd700-5d0a-4696-a25b-d35c115fe506",
   "metadata": {
    "scrolled": true
   },
   "outputs": [
    {
     "name": "stdout",
     "output_type": "stream",
     "text": [
      "(4,)\n"
     ]
    }
   ],
   "source": [
    "weights,bias = train_perceptron(X,Y_numeric,0.01,200,0.01)\n",
    "print(weights.shape)\n",
    "\n",
    "def test_perceptron(test_set_inputs, test_set_outputs_numeric, weights, bias):\n",
    "    correctly_classified = 0\n",
    "    for i in range(len(test_set_inputs)):\n",
    "        net = np.dot(weights, test_set_inputs.iloc[i]) - bias\n",
    "        output = activation_fuction(net)\n",
    "        if output == test_set_outputs_numeric[i]:\n",
    "            correctly_classified += 1\n",
    "    return float(correctly_classified / len(test_set_inputs))\n",
    "    "
   ]
  },
  {
   "cell_type": "code",
   "execution_count": 11,
   "id": "ffcfd9a4-40da-437a-a0a1-1a59b462cd07",
   "metadata": {},
   "outputs": [
    {
     "data": {
      "text/plain": [
       "0     0\n",
       "1     0\n",
       "2     0\n",
       "3     0\n",
       "4     0\n",
       "5     0\n",
       "6     0\n",
       "7     0\n",
       "8     0\n",
       "9     0\n",
       "10    0\n",
       "11    0\n",
       "12    0\n",
       "13    0\n",
       "14    0\n",
       "15    1\n",
       "16    1\n",
       "17    1\n",
       "18    1\n",
       "19    1\n",
       "20    1\n",
       "21    1\n",
       "22    1\n",
       "23    1\n",
       "24    1\n",
       "25    1\n",
       "26    1\n",
       "27    1\n",
       "28    1\n",
       "29    1\n",
       "Name: 4, dtype: int64"
      ]
     },
     "execution_count": 11,
     "metadata": {},
     "output_type": "execute_result"
    }
   ],
   "source": [
    "#read test_set\n",
    "df_test = pd.read_csv('perceptron.test.data', header=None)\n",
    "X_test = df_test.iloc[:, :-1]\n",
    "\n",
    "#change from categorical to numeric data\n",
    "Y_test = df_test.iloc[:, -1]\n",
    "unique_test_outputs = Y_test.unique()\n",
    "Y_test_numeric =  Y_test.map({unique_test_outputs[0] : 0, unique_test_outputs[1] : 1})\n",
    "Y_test_numeric"
   ]
  },
  {
   "cell_type": "code",
   "execution_count": 12,
   "id": "d55090ec-0b66-4133-8ca9-d21aa54e5636",
   "metadata": {
    "scrolled": true
   },
   "outputs": [
    {
     "data": {
      "text/plain": [
       "1.0"
      ]
     },
     "execution_count": 12,
     "metadata": {},
     "output_type": "execute_result"
    }
   ],
   "source": [
    "test_perceptron(X_test, Y_test_numeric, weights, bias)"
   ]
  },
  {
   "cell_type": "code",
   "execution_count": null,
   "id": "c258d3ca-6c34-44a4-b76b-2082563064dd",
   "metadata": {},
   "outputs": [],
   "source": []
  },
  {
   "cell_type": "code",
   "execution_count": 13,
   "id": "3102077c-64b7-4b99-b795-adf205e6b40a",
   "metadata": {
    "editable": true,
    "slideshow": {
     "slide_type": ""
    },
    "tags": []
   },
   "outputs": [],
   "source": [
    "\n",
    "def test_newData(inputs, weights, bias):\n",
    "    inputs = np.array([float(num) for num in inputs.split()])\n",
    "    net = np.dot(weights, inputs) - bias\n",
    "    return activation_fuction(net)\n",
    "        "
   ]
  },
  {
   "cell_type": "code",
   "execution_count": 14,
   "id": "993a4aa2-f72d-4fea-b653-f055b5965efa",
   "metadata": {},
   "outputs": [
    {
     "name": "stdin",
     "output_type": "stream",
     "text": [
      "do you want a prediction? anything/stop stop\n"
     ]
    }
   ],
   "source": [
    "inp = input('do you want a prediction? anything/stop')\n",
    "while inp != 'stop':\n",
    "    inputs_from_user = input('enter input values')\n",
    "    result = test_newData(inputs_from_user, weights, bias)\n",
    "    print(unique_test_outputs[result])\n",
    "    inp = input('do you want another prediction? anything/stop')"
   ]
  },
  {
   "cell_type": "code",
   "execution_count": null,
   "id": "90ea1191-90c8-4bc6-b100-f7c913bd0f8a",
   "metadata": {},
   "outputs": [],
   "source": []
  }
 ],
 "metadata": {
  "kernelspec": {
   "display_name": "Python 3 (ipykernel)",
   "language": "python",
   "name": "python3"
  },
  "language_info": {
   "codemirror_mode": {
    "name": "ipython",
    "version": 3
   },
   "file_extension": ".py",
   "mimetype": "text/x-python",
   "name": "python",
   "nbconvert_exporter": "python",
   "pygments_lexer": "ipython3",
   "version": "3.12.3"
  }
 },
 "nbformat": 4,
 "nbformat_minor": 5
}
